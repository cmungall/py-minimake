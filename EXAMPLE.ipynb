{
 "cells": [
  {
   "cell_type": "code",
   "execution_count": 1,
   "id": "a5435f47",
   "metadata": {},
   "outputs": [],
   "source": [
    "from minimake import *"
   ]
  },
  {
   "cell_type": "code",
   "execution_count": 2,
   "id": "a464cdaf",
   "metadata": {},
   "outputs": [],
   "source": [
    "@dataclass\n",
    "class TextFile(Product):\n",
    "    None"
   ]
  },
  {
   "cell_type": "code",
   "execution_count": 3,
   "id": "ea15cd81",
   "metadata": {},
   "outputs": [],
   "source": [
    "@action\n",
    "def grep(input: TextFile, keyword: str) -> TextFile:\n",
    "    return TextFile('grep {keyword} {input} > {output}', output=f'{input}-{keyword}.grep.txt')\n"
   ]
  },
  {
   "cell_type": "code",
   "execution_count": 4,
   "id": "cff7e0cf",
   "metadata": {},
   "outputs": [
    {
     "name": "stdout",
     "output_type": "stream",
     "text": [
      "cjm\r\n"
     ]
    }
   ],
   "source": [
    "!whoami"
   ]
  },
  {
   "cell_type": "code",
   "execution_count": 5,
   "id": "faa1dcbc",
   "metadata": {},
   "outputs": [],
   "source": [
    "!cp /usr/share/dict/words /tmp/\n",
    "!chmod +w /tmp/words"
   ]
  },
  {
   "cell_type": "code",
   "execution_count": 6,
   "id": "b7ed9912",
   "metadata": {},
   "outputs": [],
   "source": [
    "WORDS = '/tmp/words'"
   ]
  },
  {
   "cell_type": "code",
   "execution_count": 7,
   "id": "7251f7fc",
   "metadata": {},
   "outputs": [
    {
     "name": "stdout",
     "output_type": "stream",
     "text": [
      "INIT: grep ARGS: () KWARGS: dict_items([('input', '/tmp/words'), ('keyword', 'foo')])\n",
      "   SET: input = /tmp/words\n",
      "   SET: keyword = foo\n",
      "Product = /tmp/words-foo.grep.txt // TextFile(command='grep {keyword} {input} > {output}', input='/tmp/words', name=None, output='/tmp/words-foo.grep.txt')\n",
      "MAKING = /tmp/words-foo.grep.txt // <class '__main__.TextFile'>\n",
      " - Making Dependencies = {'input': '/tmp/words'}\n",
      "    MAKING = /tmp/words // <class 'str'>\n",
      "RUN: grep foo /tmp/words > /tmp/words-foo.grep.txt\n",
      "COMPLETE: out=/tmp/words-foo.grep.txt\n"
     ]
    }
   ],
   "source": [
    "out = make(grep(input=WORDS, keyword=\"foo\"))"
   ]
  },
  {
   "cell_type": "code",
   "execution_count": 8,
   "id": "218de5ce",
   "metadata": {},
   "outputs": [
    {
     "data": {
      "text/plain": [
       "TextFile(command='grep {keyword} {input} > {output}', input='/tmp/words', name=None, output='/tmp/words-foo.grep.txt')"
      ]
     },
     "execution_count": 8,
     "metadata": {},
     "output_type": "execute_result"
    }
   ],
   "source": [
    "out"
   ]
  },
  {
   "cell_type": "code",
   "execution_count": 9,
   "id": "c6b246f0",
   "metadata": {},
   "outputs": [
    {
     "data": {
      "text/plain": [
       "'afoot\\narchbuffoon\\narchfool\\nbarefoot\\nbarefooted\\nbearfoot\\nbedfoot\\nbefool\\nbefoolment\\nBlackfoot\\nblackfoot\\nbuffoon\\nbuffoonery\\nbuffoonesque\\nbuffoonish\\nbuffoonism\\nbullfoot\\nbumblefoot\\ncatfoot\\ncatfooted\\nclubfoot\\nclubfooted\\ncocksfoot\\ncoltsfoot\\ncootfoot\\ncrawfoot\\ncrossfoot\\ncrowfoot\\ncrowfooted\\nculverfoot\\ndeerfood\\ndogfoot\\ndoughfoot\\ndovefoot\\ndryfoot\\nduckfoot\\ndustyfoot\\nfanfoot\\nfinfoot\\nflatfoot\\nfoalfoot\\nfoo\\nfood\\nfooder\\nfoodful\\nfoodless\\nfoodlessness\\nfoodstuff\\nfoody\\nfoofaraw\\nfool\\nfooldom\\nfoolery\\nfooless\\nfoolfish\\nfoolhardihood\\nfoolhardily\\nfoolhardiness\\nfoolhardiship\\nfoolhardy\\nfooling\\nfoolish\\nfoolishly\\nfoolishness\\nfoollike\\nfoolocracy\\nfoolproof\\nfoolproofness\\nfoolscap\\nfoolship\\nfooner\\nfooster\\nfoosterer\\nfoot\\nfootage\\nfootback\\nfootball\\nfootballer\\nfootballist\\nfootband\\nfootblower\\nfootboard\\nfootboy\\nfootbreadth\\nfootbridge\\nfootcloth\\nfooted\\nfooteite\\nfooter\\nfootfall\\nfootfarer\\nfootfault\\nfootfolk\\nfootful\\nfootganger\\nfootgear\\nfootgeld\\nfoothalt\\nfoothill\\nfoothold\\nfoothook\\nfoothot\\nfooting\\nfootingly\\nfootings\\nfootle\\nfootler\\nfootless\\nfootlicker\\nfootlight\\nfootlights\\nfootling\\nfootlining\\nfootlock\\nfootmaker\\nfootman\\nfootmanhood\\nfootmanry\\nfootmanship\\nfootmark\\nfootnote\\nfootnoted\\nfootpace\\nfootpad\\nfootpaddery\\nfootpath\\nfootpick\\nfootplate\\nfootprint\\nfootrail\\nfootrest\\nfootrill\\nfootroom\\nfootrope\\nfoots\\nfootscald\\nfootslog\\nfootslogger\\nfootsore\\nfootsoreness\\nfootstalk\\nfootstall\\nfootstep\\nfootstick\\nfootstock\\nfootstone\\nfootstool\\nfootwalk\\nfootwall\\nfootway\\nfootwear\\nfootwork\\nfootworn\\nfooty\\nfooyoung\\nfoozle\\nfoozler\\nforefoot\\nfowlfoot\\nfrogfoot\\nFurfooz\\ngoatsfoot\\ngoosefoot\\nharefoot\\nharefooted\\nhollowfoot\\nhorsefoot\\nhotfoot\\njawfoot\\njawfooted\\nlobefoot\\nlobefooted\\nlundyfoot\\nmafoo\\nmulefoot\\nmulefooted\\nnettlefoot\\nnonfood\\noutfool\\noutfoot\\noverfoolish\\noverfoolishly\\noverfoolishness\\noverfoot\\npadfoot\\npigeonfoot\\npigfoot\\nplowfoot\\npoltfoot\\npoltfooted\\nprefool\\nprickfoot\\npuppyfoot\\npussyfoot\\npussyfooted\\npussyfooter\\npussyfooting\\npussyfootism\\nquickfoot\\nredfoot\\nrefool\\nrefoot\\nsaltfoot\\nsfoot\\nshadowfoot\\nshaftfoot\\nsheepfoot\\nsorefoot\\nsowfoot\\nspadefoot\\nsplayfoot\\nsplayfooted\\nswiftfoot\\ntanglefoot\\ntenderfoot\\ntenderfootish\\nthoroughfoot\\nthreadfoot\\ntigerfoot\\ntomfool\\ntomfoolery\\ntomfoolish\\ntomfoolishness\\nturkeyfoot\\nunbefool\\nunderfoot\\nunderfootage\\nunderfootman\\nunfoodful\\nunfool\\nunfoolable\\nunfooled\\nunfooling\\nunfoolish\\nunfooted\\nunfootsore\\nwebfoot\\nwebfooter\\nWhitefoot\\nwhitefoot\\nwhitefootism\\n'"
      ]
     },
     "execution_count": 9,
     "metadata": {},
     "output_type": "execute_result"
    }
   ],
   "source": [
    "out.content()"
   ]
  },
  {
   "cell_type": "code",
   "execution_count": 10,
   "id": "dd27f5e3",
   "metadata": {},
   "outputs": [],
   "source": [
    "@action\n",
    "def wc(input: TextFile) -> TextFile:\n",
    "    return TextFile('wc {input} > {output}', input, output=f'{input}.wc')"
   ]
  },
  {
   "cell_type": "code",
   "execution_count": 11,
   "id": "60390674",
   "metadata": {},
   "outputs": [
    {
     "name": "stdout",
     "output_type": "stream",
     "text": [
      "INIT: wc ARGS: ('/tmp/words',) KWARGS: dict_items([])\n",
      "Product = /tmp/words.wc // TextFile(command='wc {input} > {output}', input='/tmp/words', name=None, output='/tmp/words.wc')\n",
      "MAKING = /tmp/words.wc // <class '__main__.TextFile'>\n",
      " - Making Dependencies = {'input': '/tmp/words'}\n",
      "    MAKING = /tmp/words // <class 'str'>\n",
      "RUN: wc /tmp/words > /tmp/words.wc\n",
      "COMPLETE: out=/tmp/words.wc\n"
     ]
    },
    {
     "data": {
      "text/plain": [
       "'  235886  235886 2493109 /tmp/words\\n'"
      ]
     },
     "execution_count": 11,
     "metadata": {},
     "output_type": "execute_result"
    }
   ],
   "source": [
    "make(wc(WORDS)).content()"
   ]
  },
  {
   "cell_type": "code",
   "execution_count": 12,
   "id": "18b1e268",
   "metadata": {},
   "outputs": [
    {
     "name": "stdout",
     "output_type": "stream",
     "text": [
      "INIT: grep ARGS: ('/tmp/words',) KWARGS: dict_items([('keyword', 'foo')])\n",
      "   SET: keyword = foo\n",
      "Product = /tmp/words-foo.grep.txt // TextFile(command='grep {keyword} {input} > {output}', input='/tmp/words', name=None, output='/tmp/words-foo.grep.txt')\n",
      "INIT: wc ARGS: (TextFile(command='grep {keyword} {input} > {output}', input='/tmp/words', name=None, output='/tmp/words-foo.grep.txt'),) KWARGS: dict_items([])\n",
      "Product = /tmp/words-foo.grep.txt.wc // TextFile(command='wc {input} > {output}', input=TextFile(command='grep {keyword} {input} > {output}', input='/tmp/words', name=None, output='/tmp/words-foo.grep.txt'), name=None, output='/tmp/words-foo.grep.txt.wc')\n",
      "MAKING = /tmp/words-foo.grep.txt.wc // <class '__main__.TextFile'>\n",
      " - Making Dependencies = {'input': TextFile(command='grep {keyword} {input} > {output}', input='/tmp/words', name=None, output='/tmp/words-foo.grep.txt')}\n",
      "    MAKING = /tmp/words-foo.grep.txt // <class '__main__.TextFile'>\n",
      "     - Making Dependencies = {'input': '/tmp/words'}\n",
      "        MAKING = /tmp/words // <class 'str'>\n",
      "RUN: grep foo /tmp/words > /tmp/words-foo.grep.txt\n",
      "RUN: wc /tmp/words-foo.grep.txt > /tmp/words-foo.grep.txt.wc\n",
      "COMPLETE: out=/tmp/words-foo.grep.txt.wc\n"
     ]
    },
    {
     "data": {
      "text/plain": [
       "'     241     241    2314 /tmp/words-foo.grep.txt\\n'"
      ]
     },
     "execution_count": 12,
     "metadata": {},
     "output_type": "execute_result"
    }
   ],
   "source": [
    "make(wc(grep(WORDS, keyword='foo'))).content()"
   ]
  },
  {
   "cell_type": "code",
   "execution_count": 13,
   "id": "dcdd2925",
   "metadata": {},
   "outputs": [],
   "source": [
    "keywords = ['foo', 'bar', 'wiz']\n"
   ]
  },
  {
   "cell_type": "code",
   "execution_count": 14,
   "id": "315ae859",
   "metadata": {},
   "outputs": [],
   "source": [
    "@action\n",
    "def all(input: TextFile, keywords=[]) -> TextFile:\n",
    "    return [wc(grep(input, keyword=kw)) for kw in keywords]\n"
   ]
  },
  {
   "cell_type": "code",
   "execution_count": 15,
   "id": "dd3b4838",
   "metadata": {},
   "outputs": [
    {
     "name": "stdout",
     "output_type": "stream",
     "text": [
      "INIT: all ARGS: ('/tmp/words',) KWARGS: dict_items([('keywords', ['foo', 'bar', 'wiz'])])\n",
      "    INIT: grep ARGS: ('/tmp/words',) KWARGS: dict_items([('keyword', 'foo')])\n",
      "       SET: keyword = foo\n",
      "    Product = /tmp/words-foo.grep.txt // TextFile(command='grep {keyword} {input} > {output}', input='/tmp/words', name=None, output='/tmp/words-foo.grep.txt')\n",
      "    INIT: wc ARGS: (TextFile(command='grep {keyword} {input} > {output}', input='/tmp/words', name=None, output='/tmp/words-foo.grep.txt'),) KWARGS: dict_items([])\n",
      "    Product = /tmp/words-foo.grep.txt.wc // TextFile(command='wc {input} > {output}', input=TextFile(command='grep {keyword} {input} > {output}', input='/tmp/words', name=None, output='/tmp/words-foo.grep.txt'), name=None, output='/tmp/words-foo.grep.txt.wc')\n",
      "    INIT: grep ARGS: ('/tmp/words',) KWARGS: dict_items([('keyword', 'bar')])\n",
      "       SET: keyword = bar\n",
      "    Product = /tmp/words-bar.grep.txt // TextFile(command='grep {keyword} {input} > {output}', input='/tmp/words', name=None, output='/tmp/words-bar.grep.txt')\n",
      "    INIT: wc ARGS: (TextFile(command='grep {keyword} {input} > {output}', input='/tmp/words', name=None, output='/tmp/words-bar.grep.txt'),) KWARGS: dict_items([])\n",
      "    Product = /tmp/words-bar.grep.txt.wc // TextFile(command='wc {input} > {output}', input=TextFile(command='grep {keyword} {input} > {output}', input='/tmp/words', name=None, output='/tmp/words-bar.grep.txt'), name=None, output='/tmp/words-bar.grep.txt.wc')\n",
      "    INIT: grep ARGS: ('/tmp/words',) KWARGS: dict_items([('keyword', 'wiz')])\n",
      "       SET: keyword = wiz\n",
      "    Product = /tmp/words-wiz.grep.txt // TextFile(command='grep {keyword} {input} > {output}', input='/tmp/words', name=None, output='/tmp/words-wiz.grep.txt')\n",
      "    INIT: wc ARGS: (TextFile(command='grep {keyword} {input} > {output}', input='/tmp/words', name=None, output='/tmp/words-wiz.grep.txt'),) KWARGS: dict_items([])\n",
      "    Product = /tmp/words-wiz.grep.txt.wc // TextFile(command='wc {input} > {output}', input=TextFile(command='grep {keyword} {input} > {output}', input='/tmp/words', name=None, output='/tmp/words-wiz.grep.txt'), name=None, output='/tmp/words-wiz.grep.txt.wc')\n",
      "Product = [TextFile(command='wc {input} > {output}', input=TextFile(command='grep {keyword} {input} > {output}', input='/tmp/words', name=None, output='/tmp/words-foo.grep.txt'), name=None, output='/tmp/words-foo.grep.txt.wc'), TextFile(command='wc {input} > {output}', input=TextFile(command='grep {keyword} {input} > {output}', input='/tmp/words', name=None, output='/tmp/words-bar.grep.txt'), name=None, output='/tmp/words-bar.grep.txt.wc'), TextFile(command='wc {input} > {output}', input=TextFile(command='grep {keyword} {input} > {output}', input='/tmp/words', name=None, output='/tmp/words-wiz.grep.txt'), name=None, output='/tmp/words-wiz.grep.txt.wc')] // [TextFile(command='wc {input} > {output}', input=TextFile(command='grep {keyword} {input} > {output}', input='/tmp/words', name=None, output='/tmp/words-foo.grep.txt'), name=None, output='/tmp/words-foo.grep.txt.wc'), TextFile(command='wc {input} > {output}', input=TextFile(command='grep {keyword} {input} > {output}', input='/tmp/words', name=None, output='/tmp/words-bar.grep.txt'), name=None, output='/tmp/words-bar.grep.txt.wc'), TextFile(command='wc {input} > {output}', input=TextFile(command='grep {keyword} {input} > {output}', input='/tmp/words', name=None, output='/tmp/words-wiz.grep.txt'), name=None, output='/tmp/words-wiz.grep.txt.wc')]\n",
      "MAKING = [TextFile(command='wc {input} > {output}', input=TextFile(command='grep {keyword} {input} > {output}', input='/tmp/words', name=None, output='/tmp/words-foo.grep.txt'), name=None, output='/tmp/words-foo.grep.txt.wc'), TextFile(command='wc {input} > {output}', input=TextFile(command='grep {keyword} {input} > {output}', input='/tmp/words', name=None, output='/tmp/words-bar.grep.txt'), name=None, output='/tmp/words-bar.grep.txt.wc'), TextFile(command='wc {input} > {output}', input=TextFile(command='grep {keyword} {input} > {output}', input='/tmp/words', name=None, output='/tmp/words-wiz.grep.txt'), name=None, output='/tmp/words-wiz.grep.txt.wc')] // <class 'list'>\n",
      "    MAKING = /tmp/words-foo.grep.txt.wc // <class '__main__.TextFile'>\n",
      "     - Making Dependencies = {'input': TextFile(command='grep {keyword} {input} > {output}', input='/tmp/words', name=None, output='/tmp/words-foo.grep.txt')}\n",
      "        MAKING = /tmp/words-foo.grep.txt // <class '__main__.TextFile'>\n",
      "         - Making Dependencies = {'input': '/tmp/words'}\n",
      "            MAKING = /tmp/words // <class 'str'>\n",
      "RUN: grep foo /tmp/words > /tmp/words-foo.grep.txt\n",
      "RUN: wc /tmp/words-foo.grep.txt > /tmp/words-foo.grep.txt.wc\n",
      "    MAKING = /tmp/words-bar.grep.txt.wc // <class '__main__.TextFile'>\n",
      "     - Making Dependencies = {'input': TextFile(command='grep {keyword} {input} > {output}', input='/tmp/words', name=None, output='/tmp/words-bar.grep.txt')}\n",
      "        MAKING = /tmp/words-bar.grep.txt // <class '__main__.TextFile'>\n",
      "         - Making Dependencies = {'input': '/tmp/words'}\n",
      "            MAKING = /tmp/words // <class 'str'>\n",
      "RUN: grep bar /tmp/words > /tmp/words-bar.grep.txt\n",
      "RUN: wc /tmp/words-bar.grep.txt > /tmp/words-bar.grep.txt.wc\n",
      "    MAKING = /tmp/words-wiz.grep.txt.wc // <class '__main__.TextFile'>\n",
      "     - Making Dependencies = {'input': TextFile(command='grep {keyword} {input} > {output}', input='/tmp/words', name=None, output='/tmp/words-wiz.grep.txt')}\n",
      "        MAKING = /tmp/words-wiz.grep.txt // <class '__main__.TextFile'>\n",
      "         - Making Dependencies = {'input': '/tmp/words'}\n",
      "            MAKING = /tmp/words // <class 'str'>\n",
      "RUN: grep wiz /tmp/words > /tmp/words-wiz.grep.txt\n",
      "RUN: wc /tmp/words-wiz.grep.txt > /tmp/words-wiz.grep.txt.wc\n"
     ]
    }
   ],
   "source": [
    "out = make(all(WORDS, keywords=keywords))"
   ]
  },
  {
   "cell_type": "code",
   "execution_count": 16,
   "id": "ddd90703",
   "metadata": {},
   "outputs": [
    {
     "name": "stdout",
     "output_type": "stream",
     "text": [
      "[TextFile(command='wc {input} > {output}', input=TextFile(command='grep {keyword} {input} > {output}', input='/tmp/words', name=None, output='/tmp/words-foo.grep.txt'), name=None, output='/tmp/words-foo.grep.txt.wc'), TextFile(command='wc {input} > {output}', input=TextFile(command='grep {keyword} {input} > {output}', input='/tmp/words', name=None, output='/tmp/words-bar.grep.txt'), name=None, output='/tmp/words-bar.grep.txt.wc'), TextFile(command='wc {input} > {output}', input=TextFile(command='grep {keyword} {input} > {output}', input='/tmp/words', name=None, output='/tmp/words-wiz.grep.txt'), name=None, output='/tmp/words-wiz.grep.txt.wc')]\n"
     ]
    }
   ],
   "source": [
    "print(out)"
   ]
  },
  {
   "cell_type": "code",
   "execution_count": 17,
   "id": "24a13b3d",
   "metadata": {},
   "outputs": [
    {
     "data": {
      "text/plain": [
       "['     241     241    2314 /tmp/words-foo.grep.txt\\n',\n",
       " '     768     768    7724 /tmp/words-bar.grep.txt\\n',\n",
       " '      21      21     178 /tmp/words-wiz.grep.txt\\n']"
      ]
     },
     "execution_count": 17,
     "metadata": {},
     "output_type": "execute_result"
    }
   ],
   "source": [
    "[p.content() for p in out]"
   ]
  },
  {
   "cell_type": "code",
   "execution_count": 18,
   "id": "fec2c23e",
   "metadata": {},
   "outputs": [
    {
     "data": {
      "text/plain": [
       "[<md5 _hashlib.HASH object @ 0x7faba8492270>,\n",
       " <md5 _hashlib.HASH object @ 0x7faba8492050>,\n",
       " <md5 _hashlib.HASH object @ 0x7faba84922f0>]"
      ]
     },
     "execution_count": 18,
     "metadata": {},
     "output_type": "execute_result"
    }
   ],
   "source": [
    "[p.md5() for p in out]"
   ]
  },
  {
   "cell_type": "code",
   "execution_count": 21,
   "id": "4b37d41e",
   "metadata": {},
   "outputs": [
    {
     "data": {
      "text/plain": [
       "'/tmp/words-foo.grep.txt.wc'"
      ]
     },
     "execution_count": 21,
     "metadata": {},
     "output_type": "execute_result"
    }
   ],
   "source": [
    "out[0].__str__()"
   ]
  },
  {
   "cell_type": "code",
   "execution_count": 22,
   "id": "306a8037",
   "metadata": {},
   "outputs": [
    {
     "data": {
      "text/plain": [
       "\"TextFile(command='wc {input} > {output}', input=TextFile(command='grep {keyword} {input} > {output}', input='/tmp/words', name=None, output='/tmp/words-foo.grep.txt'), name=None, output='/tmp/words-foo.grep.txt.wc')\""
      ]
     },
     "execution_count": 22,
     "metadata": {},
     "output_type": "execute_result"
    }
   ],
   "source": [
    "out[0].__repr__()"
   ]
  },
  {
   "cell_type": "code",
   "execution_count": null,
   "id": "7c0911cd",
   "metadata": {},
   "outputs": [],
   "source": []
  }
 ],
 "metadata": {
  "kernelspec": {
   "display_name": "Python 3 (ipykernel)",
   "language": "python",
   "name": "python3"
  },
  "language_info": {
   "codemirror_mode": {
    "name": "ipython",
    "version": 3
   },
   "file_extension": ".py",
   "mimetype": "text/x-python",
   "name": "python",
   "nbconvert_exporter": "python",
   "pygments_lexer": "ipython3",
   "version": "3.9.5"
  }
 },
 "nbformat": 4,
 "nbformat_minor": 5
}
